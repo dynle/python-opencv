{
 "cells": [
  {
   "cell_type": "code",
   "execution_count": 1,
   "id": "95b9e8ab-d928-45a5-8c16-7a3e8e6f5d25",
   "metadata": {},
   "outputs": [],
   "source": [
    "import numpy as np\n",
    "import cv2"
   ]
  },
  {
   "cell_type": "code",
   "execution_count": 2,
   "id": "e7a01bf7-df1c-4eb1-bf5d-c216947e3482",
   "metadata": {},
   "outputs": [],
   "source": [
    "corner_track_params = dict(maxCorners = 10,qualityLevel=0.3,minDistance=7,blockSize=7)"
   ]
  },
  {
   "cell_type": "code",
   "execution_count": 4,
   "id": "53868691-0ceb-4ed5-96ef-3e1cc17c6eea",
   "metadata": {},
   "outputs": [],
   "source": [
    "lk_params = dict(winSize=(200,200),maxLevel=2,criteria=(cv2.TERM_CRITERIA_EPS | cv2.TERM_CRITERIA_COUNT,10,0.03))"
   ]
  },
  {
   "cell_type": "markdown",
   "id": "4254cd6d-0644-4a0d-8b63-e4d72c28b78f",
   "metadata": {},
   "source": [
    "# Lucas-Kanade function (sparse)"
   ]
  },
  {
   "cell_type": "code",
   "execution_count": null,
   "id": "ab8bdefc-440f-45b9-9dcc-513d6d0b4a55",
   "metadata": {},
   "outputs": [],
   "source": [
    "cap = cv2.VideoCapture(0)\n",
    "\n",
    "ret,prev_frame = cap.read()\n",
    "\n",
    "prev_gray = cv2.cvtColor(prev_frame,cv2.COLOR_BGR2GRAY)\n",
    "\n",
    "# points to track\n",
    "prevPts = cv2.goodFeaturesToTrack(prev_gray,mask=None,**corner_track_params)\n",
    "\n",
    "mask = np.zeros_like(prev_frame)\n",
    "\n",
    "while True:\n",
    "    ret,frame = cap.read()\n",
    "    \n",
    "    frame_gray = cv2.cvtColor(frame,cv2.COLOR_BGR2GRAY)\n",
    "    \n",
    "    nextPts, status, err = cv2.calcOpticalFlowPyrLK(prev_gray,frame_gray,prevPts,None,**lk_params)\n",
    "    \n",
    "    good_new = nextPts[status==1]\n",
    "    good_prev = prevPts[status==1]\n",
    "    \n",
    "    for i, (new,prev) in enumerate(zip(good_new,good_prev)):\n",
    "        # change to integer type\n",
    "        x_new, y_new = new.ravel()\n",
    "        x_new, y_new = int(x_new), int(y_new)\n",
    "        x_prev, y_prev = prev.ravel()\n",
    "        x_prev, y_prev = int(x_prev), int(y_prev)\n",
    "        \n",
    "        mask = cv2.line(mask,(x_new,y_new),(x_prev,y_prev),(0,255,0),3)\n",
    "        \n",
    "        frame = cv2.circle(frame,(x_new,y_new),8,(0,0,255),-1)\n",
    "        \n",
    "    img = cv2.add(frame,mask)\n",
    "    cv2.imshow('tracking',img)\n",
    "    \n",
    "    k = cv2.waitKey(30) & 0xFF\n",
    "    if k == 27:\n",
    "        break\n",
    "    \n",
    "    prev_gray = frame_gray.copy()\n",
    "    prevPts = good_new.reshape(-1,1,2)\n",
    "    \n",
    "    \n",
    "    \n",
    "cv2.destroyAllWindows()\n",
    "cap.release()\n",
    "\n",
    "    "
   ]
  },
  {
   "cell_type": "markdown",
   "id": "8a313e0b-c4e0-4f77-b621-368ee7d7f8e4",
   "metadata": {},
   "source": [
    "# Gunner Farneback's algorithm (dense)"
   ]
  },
  {
   "cell_type": "code",
   "execution_count": 5,
   "id": "39ff88e3-8280-42e4-b3af-37dd4a2a6883",
   "metadata": {},
   "outputs": [],
   "source": [
    "import cv2 \n",
    "import numpy as np"
   ]
  },
  {
   "cell_type": "code",
   "execution_count": null,
   "id": "f9d22c56-72a2-413a-a5df-6c664277378b",
   "metadata": {},
   "outputs": [],
   "source": [
    "cap = cv2.VideoCapture(0)\n",
    "\n",
    "ret,frame1 = cap.read()\n",
    "\n",
    "prvsImg = cv2.cvtColor(frame1,cv2.COLOR_BGR2GRAY)\n",
    "\n",
    "hsv_mask = np.zeros_like(frame1)\n",
    "hsv_mask[:,:,1] = 255\n",
    "\n",
    "while True:\n",
    "    ret,frame2 = cap.read()\n",
    "    \n",
    "    nextImg = cv2.cvtColor(frame2,cv2.COLOR_BGR2GRAY)\n",
    "    \n",
    "    # able to change the params but use those as default\n",
    "    flow = cv2.calcOpticalFlowFarneback(prvsImg,nextImg,None,0.5,3,15,3,5,1.2,0)\n",
    "    \n",
    "    mag, ang = cv2.cartToPolar(flow[:,:,0],flow[:,:,1],angleInDegrees=True)\n",
    "    \n",
    "    hsv_mask[:,:,0] = ang/2\n",
    "    \n",
    "    hsv_mask[:,:,2] = cv2.normalize(mag,None,0,255,cv2.NORM_MINMAX)\n",
    "    \n",
    "    bgr = cv2.cvtColor(hsv_mask,cv2.COLOR_HSV2BGR)\n",
    "    cv2.imshow('frame',bgr)\n",
    "    \n",
    "    k = cv2.waitKey(10) & 0xFF\n",
    "    if k == 27:\n",
    "        break\n",
    "        \n",
    "    prvsImg = nextImg\n",
    "\n",
    "cap.release()\n",
    "cv2.destroyAllWindows()"
   ]
  }
 ],
 "metadata": {
  "kernelspec": {
   "display_name": "Python 3 (ipykernel)",
   "language": "python",
   "name": "python3"
  },
  "language_info": {
   "codemirror_mode": {
    "name": "ipython",
    "version": 3
   },
   "file_extension": ".py",
   "mimetype": "text/x-python",
   "name": "python",
   "nbconvert_exporter": "python",
   "pygments_lexer": "ipython3",
   "version": "3.8.2"
  }
 },
 "nbformat": 4,
 "nbformat_minor": 5
}
