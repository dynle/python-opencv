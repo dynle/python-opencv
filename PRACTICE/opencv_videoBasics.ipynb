{
 "cells": [
  {
   "cell_type": "markdown",
   "id": "4404f446-469a-4819-aec0-451112003d0a",
   "metadata": {},
   "source": [
    "# 웹캠 이용해서 동영상 열고 저장하기"
   ]
  },
  {
   "cell_type": "code",
   "execution_count": null,
   "id": "3c1418f9-5485-4d4b-a728-0ce5fbb4151b",
   "metadata": {},
   "outputs": [],
   "source": [
    "# Run this file in python file!!!!\n",
    "\n",
    "import cv2\n",
    "\n",
    "cap = cv2.VideoCapture(0) # 0 = default webcam\n",
    "\n",
    "width = int(cap.get(cv2.CAP_PROP_FRAME_WIDTH))\n",
    "height = int(cap.get(cv2.CAP_PROP_FRAME_HEIGHT))\n",
    "\n",
    "# !!!Codec: Windows - DIVX / MacOS and Linux - XVID!!!\n",
    "writer = cv2.VideoWriter('testvideo.mp4',cv2.VideoWriter_fourcc(*'XVID'),20,(width,height))\n",
    "\n",
    "while True:\n",
    "    ret,frame = cap.read()\n",
    "    \n",
    "    # Operations (Drawing)\n",
    "    \n",
    "    writer.write(frame)\n",
    "    \n",
    "    # gray = cv2.cvtColor(frame,cv2.COLOR_BGR2GRAY)\n",
    "    \n",
    "    # cv2.imshow('frame',gray)\n",
    "    cv2.imshow('frame',frame)\n",
    "    \n",
    "    if cv2.waitKey(1) & 0xFF == ord('q'):\n",
    "        break\n",
    "        \n",
    "cap.release()\n",
    "writer.release()\n",
    "cv2.destoroyAllWindows()"
   ]
  },
  {
   "cell_type": "markdown",
   "id": "eb89cede-e745-45eb-97ca-ad181003623a",
   "metadata": {},
   "source": [
    "# 저장되어 있는 동영상 열기"
   ]
  },
  {
   "cell_type": "code",
   "execution_count": 1,
   "id": "a9249a06-a231-472d-a146-ab851e17d957",
   "metadata": {},
   "outputs": [],
   "source": [
    "# Run this file in python file!!!!\n",
    "\n",
    "import cv2\n",
    "import time\n",
    "\n",
    "cap = cv2.VideoCapture('testvideo.mp4')\n",
    "\n",
    "if cap.isOpened() == False:\n",
    "    print('ERROR FILE NOT FOUND OR WRONG CODEC USED!')\n",
    "\n",
    "while cap.isOPened():\n",
    "    ret,frame = cap.read()\n",
    "    \n",
    "    if ret == True:\n",
    "        # WRITER 20 FPS\n",
    "        time.sleep(1/20) # how fast the video plays, 이 숫자를 수정하면 동영상 속도를 바꿀 수 있음\n",
    "        cv2.imshow('frame',frame)\n",
    "        \n",
    "        if cv2.waitKey(10) & 0xFF == ord('q'):\n",
    "            break\n",
    "    else:\n",
    "        break\n",
    "\n",
    "cap.release()\n",
    "cv2.distroyAllWindows()"
   ]
  },
  {
   "cell_type": "markdown",
   "id": "8aeb601b-d171-4c58-add7-72cadb8fb77e",
   "metadata": {},
   "source": [
    "# 동영상에 그리기"
   ]
  },
  {
   "cell_type": "code",
   "execution_count": null,
   "id": "6522d749-32a0-4a8b-948c-05547400f07a",
   "metadata": {},
   "outputs": [],
   "source": [
    "import cv2\n",
    "\n",
    "# width = int(cap.get(cv2.CAP_PROP_FRAME_WIDTH))\n",
    "# height = int(cap.get(cv2.CAP_PROP_FRAME_HEIGHT))\n",
    "\n",
    "## Callback function rectangle\n",
    "def draw_rectangle(event,x,y,flags,param):\n",
    "    global pt1,pt2,topLeft_clicked,botRight_clicked\n",
    "    \n",
    "    if event == cv2.EVENT_LBUTTONDOWN:\n",
    "        # reset the rectangle (it checks if the rect there)\n",
    "        if topLeft_clicked == True and botRight_clicked == True:\n",
    "            pt1 = (0,0)\n",
    "            pt2 = (0,0)\n",
    "            topLeft_clicked = False\n",
    "            botRight_clicked = False\n",
    "        \n",
    "        if topLeft_clicked == False:\n",
    "            pt1 = (x,y)\n",
    "            topLeft_clicked = True\n",
    "            \n",
    "        elif botRight_clicked == False:\n",
    "            pt2 = (x,y)\n",
    "            botRight_clicked = True\n",
    "\n",
    "## global variables\n",
    "pt1 = (0,0)\n",
    "pt2 = (0,0)\n",
    "topLeft_clicked = False\n",
    "botRight_clicked = False\n",
    "\n",
    "## connect to the callback\n",
    "cap = cv2.VideoCapture(0)\n",
    "\n",
    "cv2.namedWindow('Test')\n",
    "cv2.setMouseCallback('Test',draw_rectangle)\n",
    "\n",
    "while True:\n",
    "    ret,frame = cap.read()\n",
    "    \n",
    "    # !!!draw the rectangle first and then show the frame!!!\n",
    "    # drawing on the frame based on the global variables\n",
    "    if topLeft_clicked:\n",
    "        cv2.circle(frame,center=pt1,radius=5,color=(0,0,255),thickness=-1)\n",
    "        \n",
    "    if topLeft_clicked and botRight_clicked:\n",
    "        cv2.rectangle(frame,pt1,pt2,(0,0,255),3)\n",
    "    \n",
    "    cv2.imshow('Test',frame)\n",
    "    \n",
    "    if cv2.waitKey(1) & 0xFF == ord('q'):\n",
    "        break\n",
    "        \n",
    "cap.release()\n",
    "cv2.destroyAllWindows()"
   ]
  }
 ],
 "metadata": {
  "kernelspec": {
   "display_name": "Python 3 (ipykernel)",
   "language": "python",
   "name": "python3"
  },
  "language_info": {
   "codemirror_mode": {
    "name": "ipython",
    "version": 3
   },
   "file_extension": ".py",
   "mimetype": "text/x-python",
   "name": "python",
   "nbconvert_exporter": "python",
   "pygments_lexer": "ipython3",
   "version": "3.8.2"
  }
 },
 "nbformat": 4,
 "nbformat_minor": 5
}
